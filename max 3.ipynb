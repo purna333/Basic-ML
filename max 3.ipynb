{
  "nbformat": 4,
  "nbformat_minor": 0,
  "metadata": {
    "colab": {
      "name": "Untitled0.ipynb",
      "provenance": [],
      "authorship_tag": "ABX9TyNYz+XG4+kk72yO79rqH1C/",
      "include_colab_link": true
    },
    "kernelspec": {
      "name": "python3",
      "display_name": "Python 3"
    },
    "language_info": {
      "name": "python"
    }
  },
  "cells": [
    {
      "cell_type": "markdown",
      "metadata": {
        "id": "view-in-github",
        "colab_type": "text"
      },
      "source": [
        "<a href=\"https://colab.research.google.com/github/purna333/Basic-ML/blob/main/max%203.ipynb\" target=\"_parent\"><img src=\"https://colab.research.google.com/assets/colab-badge.svg\" alt=\"Open In Colab\"/></a>"
      ]
    },
    {
      "cell_type": "code",
      "metadata": {
        "id": "GArkC0QT9e0F"
      },
      "source": [
        ""
      ],
      "execution_count": null,
      "outputs": []
    },
    {
      "cell_type": "markdown",
      "metadata": {
        "id": "wVJzvAtu9gZ5"
      },
      "source": [
        ""
      ]
    },
    {
      "cell_type": "markdown",
      "metadata": {
        "id": "7ACXYzJH9i0p"
      },
      "source": [
        "maximum of three numbers\n"
      ]
    },
    {
      "cell_type": "code",
      "metadata": {
        "colab": {
          "base_uri": "https://localhost:8080/"
        },
        "id": "rZauZr5m9r49",
        "outputId": "2889a8bb-fa11-4e4c-ccb2-1986b67e2a7f"
      },
      "source": [
        "a=int(input())\n",
        "b=int(input()) \n",
        "c=int(input()) \n",
        "if a>b&a>c:\n",
        "    print(\"a is maximum\") \n",
        "elif b>a&b>c:\n",
        "    print(\"b is maximum\") \n",
        "else:\n",
        "    print(\"c is maximum\")"
      ],
      "execution_count": 1,
      "outputs": [
        {
          "output_type": "stream",
          "text": [
            "8\n",
            "3\n",
            "98\n",
            "c is maximum\n"
          ],
          "name": "stdout"
        }
      ]
    },
    {
      "cell_type": "markdown",
      "metadata": {
        "id": "a_fjmNBw-By8"
      },
      "source": [
        ""
      ]
    }
  ]
}