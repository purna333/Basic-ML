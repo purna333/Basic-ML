{
  "nbformat": 4,
  "nbformat_minor": 0,
  "metadata": {
    "colab": {
      "name": "Untitled0.ipynb",
      "provenance": [],
      "authorship_tag": "ABX9TyMUEbsIuC4q4SDLGm7m8Wln",
      "include_colab_link": true
    },
    "kernelspec": {
      "name": "python3",
      "display_name": "Python 3"
    },
    "language_info": {
      "name": "python"
    }
  },
  "cells": [
    {
      "cell_type": "markdown",
      "metadata": {
        "id": "view-in-github",
        "colab_type": "text"
      },
      "source": [
        "<a href=\"https://colab.research.google.com/github/purna333/Basic-ML/blob/main/palindrome.ipynb\" target=\"_parent\"><img src=\"https://colab.research.google.com/assets/colab-badge.svg\" alt=\"Open In Colab\"/></a>"
      ]
    },
    {
      "cell_type": "code",
      "metadata": {
        "id": "GArkC0QT9e0F"
      },
      "source": [
        ""
      ],
      "execution_count": null,
      "outputs": []
    },
    {
      "cell_type": "markdown",
      "metadata": {
        "id": "wVJzvAtu9gZ5"
      },
      "source": [
        ""
      ]
    },
    {
      "cell_type": "markdown",
      "metadata": {
        "id": "7ACXYzJH9i0p"
      },
      "source": [
        "maximum of three numbers\n"
      ]
    },
    {
      "cell_type": "code",
      "metadata": {
        "colab": {
          "base_uri": "https://localhost:8080/"
        },
        "id": "rZauZr5m9r49",
        "outputId": "2889a8bb-fa11-4e4c-ccb2-1986b67e2a7f"
      },
      "source": [
        "a=int(input())\n",
        "b=int(input()) \n",
        "c=int(input()) \n",
        "if a>b&a>c:\n",
        "    print(\"a is maximum\") \n",
        "elif b>a&b>c:\n",
        "    print(\"b is maximum\") \n",
        "else:\n",
        "    print(\"c is maximum\")"
      ],
      "execution_count": 1,
      "outputs": [
        {
          "output_type": "stream",
          "text": [
            "8\n",
            "3\n",
            "98\n",
            "c is maximum\n"
          ],
          "name": "stdout"
        }
      ]
    },
    {
      "cell_type": "markdown",
      "metadata": {
        "id": "a_fjmNBw-By8"
      },
      "source": [
        ""
      ]
    },
    {
      "cell_type": "code",
      "metadata": {
        "id": "Trhueg95-nBL"
      },
      "source": [
        "palindrome or not"
      ],
      "execution_count": null,
      "outputs": []
    },
    {
      "cell_type": "code",
      "metadata": {
        "colab": {
          "base_uri": "https://localhost:8080/"
        },
        "id": "x4vTc8vB-sHS",
        "outputId": "109fe198-33b0-4215-e1cb-20e0c7d60ddd"
      },
      "source": [
        "a=int(input())\n",
        "b=a\n",
        "reverse=0\n",
        "while(a>0):\n",
        "  remainder=a%10\n",
        "  reverse=reverse*10+remainder\n",
        "  a=a//10\n",
        "if(b==reverse):\n",
        "  print(\"Palindrome\")\n",
        "else:\n",
        "  print(\"Not a palindrome\")"
      ],
      "execution_count": 2,
      "outputs": [
        {
          "output_type": "stream",
          "text": [
            "1331\n",
            "Palindrome\n"
          ],
          "name": "stdout"
        }
      ]
    },
    {
      "cell_type": "markdown",
      "metadata": {
        "id": "HBp1hbuZ-kPR"
      },
      "source": [
        ""
      ]
    }
  ]
}